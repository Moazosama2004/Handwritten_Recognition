{
 "cells": [
  {
   "cell_type": "code",
   "execution_count": 1,
   "id": "77bfd8f6",
   "metadata": {},
   "outputs": [],
   "source": [
    "from math import floor\n",
    "def calculate_convolution_output_shape(input_shape, filter_shape, stride, padding, pool, nfilters=1, last_conv=False):\n",
    "    \n",
    "    height = (input_shape[0] - filter_shape + (2 * padding)) // stride + 1\n",
    "    width = (input_shape[1] - filter_shape + (2 * padding)) // stride + 1\n",
    "\n",
    "    height = floor(height / pool)\n",
    "    width = floor(width / pool)\n",
    "    # Calculate the output shape of the convolutional layer\n",
    "    output_shape = (height, width)\n",
    "    if last_conv:\n",
    "        output_flatten = height*width*nfilters\n",
    "        return output_flatten\n",
    "    else:\n",
    "        return output_shape\n",
    "#output = calculate_convolution_output_shape(input_shape=(28, 28), filter_shape=(4, 4), stride=1, padding=2, pool=2)\n",
    "#output = calculate_convolution_output_shape(input_shape=output, filter_shape=(1, 1), stride=1, padding=2, pool=2, nfilters=48, last_conv=True)\n",
    "\n",
    "#print(output)\n",
    "    "
   ]
  },
  {
   "cell_type": "code",
   "execution_count": null,
   "id": "047309f7",
   "metadata": {},
   "outputs": [],
   "source": []
  }
 ],
 "metadata": {
  "kernelspec": {
   "display_name": "Python 3 (ipykernel)",
   "language": "python",
   "name": "python3"
  },
  "language_info": {
   "codemirror_mode": {
    "name": "ipython",
    "version": 3
   },
   "file_extension": ".py",
   "mimetype": "text/x-python",
   "name": "python",
   "nbconvert_exporter": "python",
   "pygments_lexer": "ipython3",
   "version": "3.9.13"
  }
 },
 "nbformat": 4,
 "nbformat_minor": 5
}
